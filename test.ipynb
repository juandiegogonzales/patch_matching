{
 "cells": [
  {
   "cell_type": "code",
   "execution_count": 1,
   "id": "634da84b",
   "metadata": {},
   "outputs": [
    {
     "name": "stderr",
     "output_type": "stream",
     "text": [
      "2023-02-27 22:50:04.512601: I tensorflow/core/platform/cpu_feature_guard.cc:193] This TensorFlow binary is optimized with oneAPI Deep Neural Network Library (oneDNN) to use the following CPU instructions in performance-critical operations:  AVX2 FMA\n",
      "To enable them in other operations, rebuild TensorFlow with the appropriate compiler flags.\n",
      "2023-02-27 22:50:04.586024: W tensorflow/compiler/xla/stream_executor/platform/default/dso_loader.cc:64] Could not load dynamic library 'libcudart.so.11.0'; dlerror: libcudart.so.11.0: cannot open shared object file: No such file or directory\n",
      "2023-02-27 22:50:04.586043: I tensorflow/compiler/xla/stream_executor/cuda/cudart_stub.cc:29] Ignore above cudart dlerror if you do not have a GPU set up on your machine.\n",
      "2023-02-27 22:50:04.998748: W tensorflow/compiler/xla/stream_executor/platform/default/dso_loader.cc:64] Could not load dynamic library 'libnvinfer.so.7'; dlerror: libnvinfer.so.7: cannot open shared object file: No such file or directory\n",
      "2023-02-27 22:50:04.998804: W tensorflow/compiler/xla/stream_executor/platform/default/dso_loader.cc:64] Could not load dynamic library 'libnvinfer_plugin.so.7'; dlerror: libnvinfer_plugin.so.7: cannot open shared object file: No such file or directory\n",
      "2023-02-27 22:50:04.998810: W tensorflow/compiler/tf2tensorrt/utils/py_utils.cc:38] TF-TRT Warning: Cannot dlopen some TensorRT libraries. If you would like to use Nvidia GPU with TensorRT, please make sure the missing libraries mentioned above are installed properly.\n",
      "2023-02-27 22:50:05.804885: I tensorflow/compiler/xla/stream_executor/cuda/cuda_gpu_executor.cc:981] successful NUMA node read from SysFS had negative value (-1), but there must be at least one NUMA node, so returning NUMA node zero\n",
      "2023-02-27 22:50:05.805088: W tensorflow/compiler/xla/stream_executor/platform/default/dso_loader.cc:64] Could not load dynamic library 'libcudart.so.11.0'; dlerror: libcudart.so.11.0: cannot open shared object file: No such file or directory\n",
      "2023-02-27 22:50:05.805134: W tensorflow/compiler/xla/stream_executor/platform/default/dso_loader.cc:64] Could not load dynamic library 'libcublas.so.11'; dlerror: libcublas.so.11: cannot open shared object file: No such file or directory\n",
      "2023-02-27 22:50:05.805169: W tensorflow/compiler/xla/stream_executor/platform/default/dso_loader.cc:64] Could not load dynamic library 'libcublasLt.so.11'; dlerror: libcublasLt.so.11: cannot open shared object file: No such file or directory\n",
      "2023-02-27 22:50:05.805202: W tensorflow/compiler/xla/stream_executor/platform/default/dso_loader.cc:64] Could not load dynamic library 'libcufft.so.10'; dlerror: libcufft.so.10: cannot open shared object file: No such file or directory\n",
      "2023-02-27 22:50:05.805236: W tensorflow/compiler/xla/stream_executor/platform/default/dso_loader.cc:64] Could not load dynamic library 'libcurand.so.10'; dlerror: libcurand.so.10: cannot open shared object file: No such file or directory\n",
      "2023-02-27 22:50:05.805268: W tensorflow/compiler/xla/stream_executor/platform/default/dso_loader.cc:64] Could not load dynamic library 'libcusolver.so.11'; dlerror: libcusolver.so.11: cannot open shared object file: No such file or directory\n",
      "2023-02-27 22:50:05.805300: W tensorflow/compiler/xla/stream_executor/platform/default/dso_loader.cc:64] Could not load dynamic library 'libcusparse.so.11'; dlerror: libcusparse.so.11: cannot open shared object file: No such file or directory\n",
      "2023-02-27 22:50:05.805332: W tensorflow/compiler/xla/stream_executor/platform/default/dso_loader.cc:64] Could not load dynamic library 'libcudnn.so.8'; dlerror: libcudnn.so.8: cannot open shared object file: No such file or directory\n",
      "2023-02-27 22:50:05.805339: W tensorflow/core/common_runtime/gpu/gpu_device.cc:1934] Cannot dlopen some GPU libraries. Please make sure the missing libraries mentioned above are installed properly if you would like to use GPU. Follow the guide at https://www.tensorflow.org/install/gpu for how to download and setup the required libraries for your platform.\n",
      "Skipping registering GPU devices...\n",
      "2023-02-27 22:50:05.805587: I tensorflow/core/platform/cpu_feature_guard.cc:193] This TensorFlow binary is optimized with oneAPI Deep Neural Network Library (oneDNN) to use the following CPU instructions in performance-critical operations:  AVX2 FMA\n",
      "To enable them in other operations, rebuild TensorFlow with the appropriate compiler flags.\n"
     ]
    }
   ],
   "source": [
    "import tensorflow as tf\n",
    "from model import PatchMatchingModel\n",
    "import matplotlib.pyplot as plt\n",
    "from data import PatchTestDataset\n",
    "import logging"
   ]
  },
  {
   "cell_type": "code",
   "execution_count": 2,
   "id": "7a5caa67",
   "metadata": {},
   "outputs": [
    {
     "name": "stdout",
     "output_type": "stream",
     "text": [
      "WARNING:tensorflow:From /home/ukhupacha/LinuxAps/anaconda3/envs/tfcpu/lib/python3.10/site-packages/tensorflow/python/autograph/pyct/static_analysis/liveness.py:83: Analyzer.lamba_check (from tensorflow.python.autograph.pyct.static_analysis.liveness) is deprecated and will be removed after 2023-09-23.\n",
      "Instructions for updating:\n",
      "Lambda fuctions will be no more assumed to be used in the statement where they are used, or at least in the same block. https://github.com/tensorflow/tensorflow/issues/56089\n",
      "((TensorSpec(shape=(512, 512, 3), dtype=tf.uint8, name=None), TensorSpec(shape=(512, 512, 3), dtype=tf.uint8, name=None)), TensorSpec(shape=(), dtype=tf.int32, name=None), TensorSpec(shape=(), dtype=tf.int32, name=None))\n"
     ]
    }
   ],
   "source": [
    "db_test = PatchTestDataset('./data/Bing.png', './data/Yandex.png')\n",
    "logging.basicConfig(level=logging.DEBUG)\n",
    "matching_model = PatchMatchingModel()\n",
    "\n",
    "checkpoint = tf.train.Checkpoint(model=matching_model)\n",
    "\n",
    "manager = tf.train.CheckpointManager(checkpoint, directory='./saved_models', max_to_keep=1)"
   ]
  },
  {
   "cell_type": "code",
   "execution_count": 3,
   "id": "cbc01ad9",
   "metadata": {},
   "outputs": [
    {
     "name": "stdout",
     "output_type": "stream",
     "text": [
      "tf.Tensor(2.5691643, shape=(), dtype=float32)\n",
      "tf.Tensor(3.2978525, shape=(), dtype=float32)\n",
      "tf.Tensor(2.956715, shape=(), dtype=float32)\n",
      "tf.Tensor(2.692634, shape=(), dtype=float32)\n",
      "tf.Tensor(2.799953, shape=(), dtype=float32)\n",
      "tf.Tensor(2.778706, shape=(), dtype=float32)\n",
      "tf.Tensor(2.5961661, shape=(), dtype=float32)\n",
      "tf.Tensor(2.4826124, shape=(), dtype=float32)\n",
      "tf.Tensor(2.654803, shape=(), dtype=float32)\n",
      "tf.Tensor(2.608812, shape=(), dtype=float32)\n",
      "tf.Tensor(3.1640337, shape=(), dtype=float32)\n",
      "tf.Tensor(2.8669653, shape=(), dtype=float32)\n",
      "tf.Tensor(2.5187664, shape=(), dtype=float32)\n",
      "tf.Tensor(2.352883, shape=(), dtype=float32)\n",
      "tf.Tensor(2.5701494, shape=(), dtype=float32)\n",
      "tf.Tensor(2.8677595, shape=(), dtype=float32)\n",
      "tf.Tensor(3.4024417, shape=(), dtype=float32)\n",
      "tf.Tensor(3.469087, shape=(), dtype=float32)\n",
      "tf.Tensor(2.9686337, shape=(), dtype=float32)\n",
      "tf.Tensor(2.6471379, shape=(), dtype=float32)\n",
      "tf.Tensor(2.492166, shape=(), dtype=float32)\n",
      "tf.Tensor(3.0604432, shape=(), dtype=float32)\n",
      "tf.Tensor(3.1394875, shape=(), dtype=float32)\n",
      "tf.Tensor(3.1126862, shape=(), dtype=float32)\n",
      "tf.Tensor(2.8164608, shape=(), dtype=float32)\n",
      "tf.Tensor(2.785334, shape=(), dtype=float32)\n",
      "tf.Tensor(2.5914493, shape=(), dtype=float32)\n",
      "tf.Tensor(2.8426232, shape=(), dtype=float32)\n",
      "tf.Tensor(3.2342374, shape=(), dtype=float32)\n",
      "tf.Tensor(3.3883665, shape=(), dtype=float32)\n",
      "tf.Tensor(3.1871834, shape=(), dtype=float32)\n",
      "tf.Tensor(2.7287936, shape=(), dtype=float32)\n",
      "tf.Tensor(2.5695932, shape=(), dtype=float32)\n",
      "tf.Tensor(2.9289157, shape=(), dtype=float32)\n",
      "tf.Tensor(3.276973, shape=(), dtype=float32)\n",
      "tf.Tensor(3.1754808, shape=(), dtype=float32)\n",
      "tf.Tensor(3.2515552, shape=(), dtype=float32)\n",
      "tf.Tensor(2.7450075, shape=(), dtype=float32)\n",
      "tf.Tensor(2.3009677, shape=(), dtype=float32)\n",
      "tf.Tensor(2.7952726, shape=(), dtype=float32)\n",
      "tf.Tensor(3.073029, shape=(), dtype=float32)\n",
      "tf.Tensor(3.2410893, shape=(), dtype=float32)\n",
      "tf.Tensor(3.1167028, shape=(), dtype=float32)\n",
      "tf.Tensor(2.5014942, shape=(), dtype=float32)\n",
      "tf.Tensor(2.254795, shape=(), dtype=float32)\n",
      "tf.Tensor(2.7027614, shape=(), dtype=float32)\n",
      "tf.Tensor(2.9530802, shape=(), dtype=float32)\n",
      "tf.Tensor(3.1554065, shape=(), dtype=float32)\n",
      "tf.Tensor(2.7647638, shape=(), dtype=float32)\n",
      "tf.Tensor(2.2047153, shape=(), dtype=float32)\n",
      "tf.Tensor(2.1938057, shape=(), dtype=float32)\n",
      "tf.Tensor(2.152633, shape=(), dtype=float32)\n",
      "tf.Tensor(2.3941336, shape=(), dtype=float32)\n",
      "tf.Tensor(3.1949341, shape=(), dtype=float32)\n",
      "tf.Tensor(2.8496592, shape=(), dtype=float32)\n",
      "tf.Tensor(2.1082191, shape=(), dtype=float32)\n",
      "tf.Tensor(2.011435, shape=(), dtype=float32)\n",
      "tf.Tensor(2.059946, shape=(), dtype=float32)\n",
      "tf.Tensor(2.8205762, shape=(), dtype=float32)\n",
      "tf.Tensor(3.06826, shape=(), dtype=float32)\n"
     ]
    }
   ],
   "source": [
    "for patch, rows, cols in db_test.db:\n",
    "    patch_1 = patch[0]\n",
    "    patch_2 = patch[1]\n",
    "    #pil_img1 = tf.keras.preprocessing.image.array_to_img(patch_1[0])\n",
    "    #plt.imshow(pil_img1)\n",
    "    #pil_img2 = tf.keras.preprocessing.image.array_to_img(patch_2[0])\n",
    "    #plt.imshow(pil_img2)\n",
    "    out = matching_model(patch_1, patch_2, training=False)\n",
    "    print(out)"
   ]
  },
  {
   "cell_type": "code",
   "execution_count": null,
   "id": "c7982d77",
   "metadata": {},
   "outputs": [],
   "source": []
  }
 ],
 "metadata": {
  "kernelspec": {
   "display_name": "Python 3 (ipykernel)",
   "language": "python",
   "name": "python3"
  },
  "language_info": {
   "codemirror_mode": {
    "name": "ipython",
    "version": 3
   },
   "file_extension": ".py",
   "mimetype": "text/x-python",
   "name": "python",
   "nbconvert_exporter": "python",
   "pygments_lexer": "ipython3",
   "version": "3.10.9"
  }
 },
 "nbformat": 4,
 "nbformat_minor": 5
}
